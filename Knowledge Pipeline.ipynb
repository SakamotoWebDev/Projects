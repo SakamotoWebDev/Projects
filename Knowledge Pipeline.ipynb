{
 "cells": [
  {
   "cell_type": "raw",
   "id": "46e22445-eeb9-4716-b822-bb49a8185aeb",
   "metadata": {
    "scrolled": true
   },
   "source": [
    "import os\n",
    "import requests\n",
    "import json\n",
    "\n",
    "# Ensure your OpenAI API key is set as an environment variable\n",
    "openai_api_key = os.getenv('OPENAI_API_KEY')\n",
    "\n",
    "# Check if the OpenAI API key is set\n",
    "if not openai_api_key:\n",
    "  raise ValueError(\"No OpenAI API key found in environment variables\")\n",
    "\n",
    "# Define the prompt and other parameters for the OpenAI API request\n",
    "prompt = \"You are a helpful assistant. Ready?\"\n",
    "headers = {\n",
    "  'Content-Type': 'application/json',\n",
    "  'Authorization': f'Bearer {openai_api_key}'\n",
    "}\n",
    "data = {\n",
    "  'model': 'gpt-4',\n",
    "  'messages': [\n",
    "      {'role': 'system', 'content': \"you are a helpful assistant\"},\n",
    "      {'role': 'user', 'content': prompt}\n",
    "  ],\n",
    "  'temperature': 0.0,\n",
    "  'max_tokens': 100\n",
    "}\n",
    "\n",
    "# Make the API request\n",
    "response = requests.post('https://api.openai.com/v1/chat/completions', headers=headers, json=data)\n",
    "\n",
    "# Check for a successful response\n",
    "if response.status_code == 200:\n",
    "  result = response.json()\n",
    "  generated_text = result['choices'][0]['message']['content'].strip()\n",
    "  print(\"Generated response:\", generated_text)\n",
    "else:\n",
    "  print(\"Failed to generate text\")\n",
    "  print(\"Status code:\", response.status_code)\n",
    "  print(\"Response:\", response.text)"
   ]
  },
  {
   "cell_type": "code",
   "execution_count": null,
   "id": "55e3625d-8e07-4354-8b5e-382f28ffa914",
   "metadata": {},
   "outputs": [],
   "source": []
  }
 ],
 "metadata": {
  "kernelspec": {
   "display_name": "Python 3 (ipykernel)",
   "language": "python",
   "name": "python3"
  },
  "language_info": {
   "codemirror_mode": {
    "name": "ipython",
    "version": 3
   },
   "file_extension": ".py",
   "mimetype": "text/x-python",
   "name": "python",
   "nbconvert_exporter": "python",
   "pygments_lexer": "ipython3",
   "version": "3.12.3"
  }
 },
 "nbformat": 4,
 "nbformat_minor": 5
}
